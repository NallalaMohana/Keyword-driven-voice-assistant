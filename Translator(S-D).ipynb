{
 "cells": [
  {
   "cell_type": "code",
   "execution_count": 17,
   "id": "b43677a9",
   "metadata": {
    "scrolled": false
   },
   "outputs": [],
   "source": [
    "import googletrans\n",
    "import speech_recognition\n",
    "import gtts\n",
    "import playsound\n",
    "import warnings\n",
    "warnings.filterwarnings(\"ignore\")\n",
    "import spacy\n",
    "import random\n",
    "import nltk\n",
    "from nltk.tokenize import word_tokenize\n",
    "from spacy.training.example import Example\n",
    "import pickle"
   ]
  },
  {
   "cell_type": "code",
   "execution_count": 18,
   "id": "97224c61",
   "metadata": {
    "scrolled": true
   },
   "outputs": [
    {
     "name": "stdout",
     "output_type": "stream",
     "text": [
      "{'af': 'afrikaans', 'sq': 'albanian', 'am': 'amharic', 'ar': 'arabic', 'hy': 'armenian', 'az': 'azerbaijani', 'eu': 'basque', 'be': 'belarusian', 'bn': 'bengali', 'bs': 'bosnian', 'bg': 'bulgarian', 'ca': 'catalan', 'ceb': 'cebuano', 'ny': 'chichewa', 'zh-cn': 'chinese (simplified)', 'zh-tw': 'chinese (traditional)', 'co': 'corsican', 'hr': 'croatian', 'cs': 'czech', 'da': 'danish', 'nl': 'dutch', 'en': 'english', 'eo': 'esperanto', 'et': 'estonian', 'tl': 'filipino', 'fi': 'finnish', 'fr': 'french', 'fy': 'frisian', 'gl': 'galician', 'ka': 'georgian', 'de': 'german', 'el': 'greek', 'gu': 'gujarati', 'ht': 'haitian creole', 'ha': 'hausa', 'haw': 'hawaiian', 'iw': 'hebrew', 'he': 'hebrew', 'hi': 'hindi', 'hmn': 'hmong', 'hu': 'hungarian', 'is': 'icelandic', 'ig': 'igbo', 'id': 'indonesian', 'ga': 'irish', 'it': 'italian', 'ja': 'japanese', 'jw': 'javanese', 'kn': 'kannada', 'kk': 'kazakh', 'km': 'khmer', 'ko': 'korean', 'ku': 'kurdish (kurmanji)', 'ky': 'kyrgyz', 'lo': 'lao', 'la': 'latin', 'lv': 'latvian', 'lt': 'lithuanian', 'lb': 'luxembourgish', 'mk': 'macedonian', 'mg': 'malagasy', 'ms': 'malay', 'ml': 'malayalam', 'mt': 'maltese', 'mi': 'maori', 'mr': 'marathi', 'mn': 'mongolian', 'my': 'myanmar (burmese)', 'ne': 'nepali', 'no': 'norwegian', 'or': 'odia', 'ps': 'pashto', 'fa': 'persian', 'pl': 'polish', 'pt': 'portuguese', 'pa': 'punjabi', 'ro': 'romanian', 'ru': 'russian', 'sm': 'samoan', 'gd': 'scots gaelic', 'sr': 'serbian', 'st': 'sesotho', 'sn': 'shona', 'sd': 'sindhi', 'si': 'sinhala', 'sk': 'slovak', 'sl': 'slovenian', 'so': 'somali', 'es': 'spanish', 'su': 'sundanese', 'sw': 'swahili', 'sv': 'swedish', 'tg': 'tajik', 'ta': 'tamil', 'te': 'telugu', 'th': 'thai', 'tr': 'turkish', 'uk': 'ukrainian', 'ur': 'urdu', 'ug': 'uyghur', 'uz': 'uzbek', 'vi': 'vietnamese', 'cy': 'welsh', 'xh': 'xhosa', 'yi': 'yiddish', 'yo': 'yoruba', 'zu': 'zulu'}\n"
     ]
    }
   ],
   "source": [
    "print(googletrans.LANGUAGES)"
   ]
  },
  {
   "cell_type": "markdown",
   "id": "6800b168",
   "metadata": {},
   "source": [
    "# from telugu to english"
   ]
  },
  {
   "cell_type": "code",
   "execution_count": 37,
   "id": "8bf81f67",
   "metadata": {},
   "outputs": [
    {
     "name": "stdout",
     "output_type": "stream",
     "text": [
      "I'm Listening....\n",
      "నా పేరు సార నాకు 18 సంవత్సరాలు నాకు స్కిన్ ప్రాబ్లం ఉంది నాకు డాక్టర్ సుష్మా దగ్గర అపార్ట్మెంట్ కావాలి నాకు వెనస్డే కావాలి\n",
      "my name is sara i am 18 years old i have skin problem i want an apartment near doctor sushma i want venusday\n"
     ]
    },
    {
     "data": {
      "text/plain": [
       "'converted_audio = gtts.gTTS(translation.text,lang = \"te\")\\nconverted_audio.save(\"sample1.mp3\")\\nfinal_audio = playsound.playsound(\"sample1.mp3\")\\nprint(final_audio)'"
      ]
     },
     "execution_count": 37,
     "metadata": {},
     "output_type": "execute_result"
    }
   ],
   "source": [
    "recognizer = speech_recognition.Recognizer()\n",
    "with speech_recognition.Microphone() as source:\n",
    "    print(\"I'm Listening....\")\n",
    "    voice = recognizer.listen(source)\n",
    "    text = recognizer.recognize_google(voice,language=\"te\")\n",
    "    print(text)\n",
    "\n",
    "translator = googletrans.Translator()\n",
    "translation = translator.translate(text,dest = \"en\")\n",
    "final_output = translation.text\n",
    "print(final_output)\n",
    "\"\"\"converted_audio = gtts.gTTS(translation.text,lang = \"te\")\n",
    "converted_audio.save(\"sample1.mp3\")\n",
    "final_audio = playsound.playsound(\"sample1.mp3\")\n",
    "print(final_audio)\"\"\""
   ]
  },
  {
   "cell_type": "markdown",
   "id": "69b9a64e",
   "metadata": {},
   "source": [
    "# from any language to english"
   ]
  },
  {
   "cell_type": "code",
   "execution_count": 13,
   "id": "f71c9ff6",
   "metadata": {
    "scrolled": false
   },
   "outputs": [
    {
     "name": "stdout",
     "output_type": "stream",
     "text": [
      "I'm Listening....\n",
      "హలో నా పేరు మోహన\n",
      "Your Input: hello now Peru mohana\n",
      "Output: Hello my name is Mohan\n"
     ]
    }
   ],
   "source": [
    "recognizer = speech_recognition.Recognizer()\n",
    "with speech_recognition.Microphone() as source:\n",
    "    print(\"I'm Listening....\")\n",
    "    voice = recognizer.listen(source)\n",
    "    text = recognizer.recognize_google(voice, language='')\n",
    "    print(\"Your Input:\", text)\n",
    "\n",
    "translator = googletrans.Translator()\n",
    "translation = translator.translate(text,dest = \"en\")\n",
    "final_output = translation.text\n",
    "print(\"Output:\",final_output)"
   ]
  },
  {
   "cell_type": "markdown",
   "id": "38dd5005",
   "metadata": {},
   "source": [
    "# from specified languages to english"
   ]
  },
  {
   "cell_type": "code",
   "execution_count": 18,
   "id": "28030c79",
   "metadata": {},
   "outputs": [
    {
     "name": "stdout",
     "output_type": "stream",
     "text": [
      "I'm Listening....\n",
      "Your Input: Hello naa peru Mohana \n",
      "Output: Hello my name is Mohan\n"
     ]
    }
   ],
   "source": [
    "languages = ['en-US', 'hi-IN', 'te-IN', 'mr-IN', 'ta-IN', 'kn-IN']\n",
    "recognizer = speech_recognition.Recognizer()\n",
    "with speech_recognition.Microphone() as source:\n",
    "    print(\"I'm Listening....\")\n",
    "    voice = recognizer.listen(source)\n",
    "text=\"\"\n",
    "for lang in languages:\n",
    "    recognized_text = recognizer.recognize_google(voice, language=lang)\n",
    "    text += recognized_text + \" \"\n",
    "    break\n",
    "print(\"Your Input:\", text)\n",
    "\n",
    "translator = googletrans.Translator()\n",
    "translation = translator.translate(text,dest = \"en\")\n",
    "final_output = translation.text\n",
    "print(\"Output:\",final_output)"
   ]
  },
  {
   "cell_type": "markdown",
   "id": "4a633a53",
   "metadata": {},
   "source": [
    "nltk.download('punkt')\n",
    "tokens = word_tokenize(final_output)\n",
    "target_words = [\"mohana\",\"skin\",\"problem\",\"today\"]\n",
    "extracted_words = [word for word in tokens if word in target_words]\n",
    "print(extracted_words)"
   ]
  },
  {
   "cell_type": "markdown",
   "id": "0c8206aa",
   "metadata": {},
   "source": [
    "# SpaCy ner custom training"
   ]
  },
  {
   "cell_type": "code",
   "execution_count": 20,
   "id": "728693bd",
   "metadata": {},
   "outputs": [
    {
     "data": {
      "text/plain": [
       "<spacy.lang.en.English at 0x259f267f550>"
      ]
     },
     "execution_count": 20,
     "metadata": {},
     "output_type": "execute_result"
    }
   ],
   "source": [
    "nlp = spacy.load(\"en_core_web_lg\")\n",
    "nlp"
   ]
  },
  {
   "cell_type": "markdown",
   "id": "dfdf8e46",
   "metadata": {},
   "source": [
    "!python -m spacy download en_core_web_sm"
   ]
  },
  {
   "cell_type": "code",
   "execution_count": 21,
   "id": "7271a07c",
   "metadata": {},
   "outputs": [],
   "source": [
    "nlp = spacy.load(\"en_core_web_sm\")"
   ]
  },
  {
   "cell_type": "markdown",
   "id": "7c265f18",
   "metadata": {
    "scrolled": false
   },
   "source": [
    "!python -m spacy download en"
   ]
  },
  {
   "cell_type": "markdown",
   "id": "faa91664",
   "metadata": {},
   "source": [
    "TRAIN_DATA = [\n",
    "    (\"Need Appt with Doctor Mohana on Monday to take hold of my stress\", {\"entities\": [(22, 28, \"DoctorName\"),(32, 38, \"Day\"),(42, 64, \"problem\")]}),\n",
    "    (\"Schedule an appointment with Dr.Sushma on Sunday for skin checkup\", {\"entities\": [(32, 38, \"DoctorName\"),(42, 48, \"Day\"),(53, 65, \"problem\")]}),\n",
    "    (\"Wanna meet doctor Rakesh gupta for a regular checkup today\", {\"entities\": [(18, 30, \"DoctorName\"),(53, 58, \"Day\"),(37, 52, \"problem\")]}),\n",
    "    (\"Emergency for eating too much pizza..must consult doctor mr.Aditya\", {\"entities\": [(60, 66, \"DoctorName\"),(0, 10, \"Day\"),(14, 35, \"problem\")]}),\n",
    "    (\"severe headache donno wat to do...think, i should catch doctor Hemanth for my problem tomorrow\", {\"entities\": [(63, 70, \"DoctorName\"),(86, 94, \"Day\"),(7, 15, \"problem\")]}),\n",
    "    (\"wanna have a checkup,can i get appointment of ms.Mukulitha immediately\", {\"entities\": [(49, 58, \"DoctorName\"),(59, 70, \"Day\"),(13, 20, \"problem\")]}),\n",
    "]\n"
   ]
  },
  {
   "cell_type": "markdown",
   "id": "6b058e0c",
   "metadata": {},
   "source": [
    "nlp = spacy.blank(\"en\")\n",
    "ner = nlp.add_pipe(\"ner\")\n",
    "ner.add_label(\"DoctorName\")\n",
    "ner.add_label(\"Day\")\n",
    "ner.add_label(\"problem\")\n"
   ]
  },
  {
   "cell_type": "markdown",
   "id": "af6ca917",
   "metadata": {},
   "source": [
    "with open(\"SIH_Translator_pickle\",\"wb\") as f:\n",
    "    pickle.dump(nlp,f)"
   ]
  },
  {
   "cell_type": "markdown",
   "id": "1f4daa8e",
   "metadata": {},
   "source": [
    "with open(\"SIH_Translator_pickle\",'rb') as f:\n",
    "    mp=pickle.load(f)"
   ]
  },
  {
   "cell_type": "code",
   "execution_count": 26,
   "id": "1286cf93",
   "metadata": {},
   "outputs": [],
   "source": [
    "TRAIN_DATA = [\n",
    "    (\"my name is sulochana iam 23 years old and i Need Appt with Doctor Mohana on Monday to take hold of my stress and my mobile number is 9110335933\", {\"entities\": [(66, 72, \"DoctorName\"),(76, 82, \"Day\"),(86, 108, \"Psychiatrist\"),(11, 20, \"patient name\"),(25, 27, \"age\"),(133, 143, \"phone\")]}),\n",
    "    (\"iam sara of 18 years.Schedule an appointment with Dr.Sushma on Sunday for skin checkup my phone is 9220343434\", {\"entities\": [(53, 59, \"DoctorName\"),(63, 69, \"Day\"),(74, 86, \"Dermatologist\"),(4, 8, \"patient name\"),(12, 14, \"age\"),(99, 109, \"phone\")]}),\n",
    "    (\"my daughter name anupama age 5 mobile 8794562137 Wanna meet doctor Rakesh gupta for a regular checkup for my daughter today\", {\"entities\": [(67, 79, \"DoctorName\"),(118, 123, \"Day\"),(86, 117, \"Pediatrician\"),(17, 24, \"patient name\"),(29, 30, \"age\"),(38, 48, \"phone\")]}),\n",
    "    (\"Emergency for eating too much pizza.. iam yadav of 34 years must consult doctor mr.Aditya number 7894581239\", {\"entities\": [(83, 89, \"DoctorName\"),(0, 9, \"Today\"),(14, 35, \"Gastroenterologist\"),(42, 47, \"patient name\"),(51, 53, \"age\"),(97, 107, \"phone\")]}),\n",
    "    (\"severe headache donno wat to do...details are harthik 54 978456231 think, i should catch doctor Hemanth for my problem tomorrow\", {\"entities\": [(97, 104, \"DoctorName\"),(120, 128, \"Day\"),(7, 15, \"Neurologist\"),(46, 53, \"patient name\"),(54, 56, \"age\"),(57, 67, \"phone\")]}),\n",
    "    (\"name rinku 33 years old contact 7891234567 wanna have a checkup for my cancer status,can i get appointment of ms.Mukulitha immediately\", {\"entities\": [(113, 122, \"DoctorName\"),(123, 134, \"Today\"),(71, 77, \"Oncologist\"),(5,10, \"patient name\"),(11, 13, \"age\"),(32, 42, \"phone\")]}),\n",
    "]"
   ]
  },
  {
   "cell_type": "markdown",
   "id": "a0025d6c",
   "metadata": {},
   "source": [
    "text = \"pinky, aged 52, is looking to book an appointment with Dr. Mohana on Friday to discuss her stress. You can contact her at 7894562135\"\n",
    "substring = \"discuss her stress\"\n",
    "\n",
    "start_index = text.find(substring)\n",
    "end_index = start_index + len(substring)\n",
    "\n",
    "print(f\"Start Index: {start_index}, End Index: {end_index}\")"
   ]
  },
  {
   "cell_type": "code",
   "execution_count": 27,
   "id": "cef92024",
   "metadata": {},
   "outputs": [
    {
     "data": {
      "text/plain": [
       "1"
      ]
     },
     "execution_count": 27,
     "metadata": {},
     "output_type": "execute_result"
    }
   ],
   "source": [
    "nlp = spacy.blank(\"en\")\n",
    "ner = nlp.add_pipe(\"ner\")\n",
    "ner.add_label(\"DoctorName\")\n",
    "ner.add_label(\"Day\")\n",
    "ner.add_label(\"Psychiatrist\")\n",
    "ner.add_label(\"Pediatrician\")\n",
    "ner.add_label(\"Dermatologist\")\n",
    "ner.add_label(\"Gastroenterologist\")\n",
    "ner.add_label(\"Neurologist\")\n",
    "ner.add_label(\"Oncologist\")\n",
    "ner.add_label(\"patient name\")\n",
    "ner.add_label(\"age\")\n",
    "ner.add_label(\"phone\")\n",
    "ner.add_label(\"Today\")"
   ]
  },
  {
   "cell_type": "code",
   "execution_count": 28,
   "id": "36fc0cec",
   "metadata": {
    "scrolled": false
   },
   "outputs": [
    {
     "name": "stdout",
     "output_type": "stream",
     "text": [
      "Losses {'ner': 131.00990886613727}\n",
      "Losses {'ner': 121.03818994387984}\n",
      "Losses {'ner': 97.07052284758538}\n",
      "Losses {'ner': 63.8176667165244}\n",
      "Losses {'ner': 56.41070706267874}\n",
      "Losses {'ner': 54.91558083192831}\n",
      "Losses {'ner': 53.630012812050154}\n",
      "Losses {'ner': 51.49702922583856}\n",
      "Losses {'ner': 53.24444773324649}\n",
      "Losses {'ner': 48.43456393004453}\n",
      "Losses {'ner': 49.8769789207538}\n",
      "Losses {'ner': 42.342586558385904}\n",
      "Losses {'ner': 45.54031084354104}\n",
      "Losses {'ner': 41.1026358016025}\n",
      "Losses {'ner': 36.55474351272278}\n",
      "Losses {'ner': 34.57879959137679}\n",
      "Losses {'ner': 31.79200984816685}\n",
      "Losses {'ner': 32.379122892494856}\n",
      "Losses {'ner': 29.35665717592974}\n",
      "Losses {'ner': 25.420515020049088}\n",
      "Losses {'ner': 27.132731201890568}\n",
      "Losses {'ner': 23.257368307947115}\n",
      "Losses {'ner': 22.77047931761347}\n",
      "Losses {'ner': 20.59274998653182}\n",
      "Losses {'ner': 22.248620567531166}\n",
      "Losses {'ner': 21.812720808317405}\n",
      "Losses {'ner': 29.836267632624846}\n",
      "Losses {'ner': 42.082187787066374}\n",
      "Losses {'ner': 19.760954954579084}\n",
      "Losses {'ner': 22.13089437240905}\n",
      "Losses {'ner': 17.096283383545686}\n",
      "Losses {'ner': 30.820380768511583}\n",
      "Losses {'ner': 35.2060400891103}\n",
      "Losses {'ner': 16.08383441377859}\n",
      "Losses {'ner': 20.05864856389126}\n",
      "Losses {'ner': 17.777478983169342}\n",
      "Losses {'ner': 18.057384154878648}\n",
      "Losses {'ner': 13.501470875583069}\n",
      "Losses {'ner': 16.099671608645842}\n",
      "Losses {'ner': 18.464092284849997}\n",
      "Losses {'ner': 19.027083446400745}\n",
      "Losses {'ner': 29.635891738023442}\n",
      "Losses {'ner': 28.74720695845534}\n",
      "Losses {'ner': 16.010448153849055}\n",
      "Losses {'ner': 8.138723454282417}\n",
      "Losses {'ner': 9.142362139359136}\n",
      "Losses {'ner': 24.090396743749587}\n",
      "Losses {'ner': 16.048807489379627}\n",
      "Losses {'ner': 12.008895615378648}\n",
      "Losses {'ner': 10.010055598996354}\n",
      "Losses {'ner': 10.602401748849092}\n",
      "Losses {'ner': 13.915248836741352}\n",
      "Losses {'ner': 13.922868645094793}\n",
      "Losses {'ner': 6.3881217898855915}\n",
      "Losses {'ner': 20.209636575574613}\n",
      "Losses {'ner': 9.232227525269503}\n",
      "Losses {'ner': 15.398198573389886}\n",
      "Losses {'ner': 17.65812095114432}\n",
      "Losses {'ner': 8.973724339422294}\n",
      "Losses {'ner': 13.255503623414288}\n",
      "Losses {'ner': 8.81904423930074}\n",
      "Losses {'ner': 8.038682630091552}\n",
      "Losses {'ner': 4.941863267978479}\n",
      "Losses {'ner': 3.382589245646206}\n",
      "Losses {'ner': 12.133432126747408}\n",
      "Losses {'ner': 8.331153535777068}\n",
      "Losses {'ner': 10.527412154278716}\n",
      "Losses {'ner': 8.92036647415755}\n",
      "Losses {'ner': 5.852565975375741}\n",
      "Losses {'ner': 11.796890261266121}\n",
      "Losses {'ner': 6.580228525010288}\n",
      "Losses {'ner': 7.310350195861823}\n",
      "Losses {'ner': 4.237466401074609}\n",
      "Losses {'ner': 10.394119721865026}\n",
      "Losses {'ner': 12.202269022421678}\n",
      "Losses {'ner': 10.785379142816067}\n",
      "Losses {'ner': 4.733658456406726}\n",
      "Losses {'ner': 9.58116262223368}\n",
      "Losses {'ner': 11.256671244405435}\n",
      "Losses {'ner': 1.472035903288079}\n",
      "Losses {'ner': 7.183869870659652}\n",
      "Losses {'ner': 5.811851821723983}\n",
      "Losses {'ner': 4.6255593711695635}\n",
      "Losses {'ner': 3.881408427634191}\n",
      "Losses {'ner': 3.4508745239441025}\n",
      "Losses {'ner': 6.853986624154303}\n",
      "Losses {'ner': 6.044920051801403}\n",
      "Losses {'ner': 7.917546420779711}\n",
      "Losses {'ner': 7.15856516465853}\n",
      "Losses {'ner': 2.6689162889456703}\n",
      "Losses {'ner': 2.2306345085642736}\n",
      "Losses {'ner': 3.405699703739853}\n",
      "Losses {'ner': 6.537877175577202}\n",
      "Losses {'ner': 2.9792012690424325}\n",
      "Losses {'ner': 2.5511375199878903}\n",
      "Losses {'ner': 1.704330261919656}\n",
      "Losses {'ner': 4.363965356525785}\n",
      "Losses {'ner': 3.657684070280601}\n",
      "Losses {'ner': 0.8776962734572613}\n",
      "Losses {'ner': 1.8475862787533137}\n",
      "Losses {'ner': 0.3360852489201978}\n",
      "Losses {'ner': 2.1421583049942807}\n",
      "Losses {'ner': 0.2626096799040856}\n",
      "Losses {'ner': 4.510442136876335}\n",
      "Losses {'ner': 0.045992943699810655}\n",
      "Losses {'ner': 2.8551856717483557}\n",
      "Losses {'ner': 0.762447304391616}\n",
      "Losses {'ner': 0.41566780230380357}\n",
      "Losses {'ner': 1.5693314011010364}\n",
      "Losses {'ner': 3.4945045573042934}\n",
      "Losses {'ner': 0.3059436100665361}\n",
      "Losses {'ner': 0.5443353840478852}\n",
      "Losses {'ner': 0.12627428081042957}\n",
      "Losses {'ner': 2.5690004861206934}\n",
      "Losses {'ner': 4.89182784989862}\n",
      "Losses {'ner': 2.5626161048142855}\n",
      "Losses {'ner': 0.4927222324457753}\n",
      "Losses {'ner': 0.0030694804956095194}\n",
      "Losses {'ner': 0.26833289895316176}\n",
      "Losses {'ner': 0.38003896987002483}\n",
      "Losses {'ner': 1.5402524922282985}\n",
      "Losses {'ner': 3.6838189165394972}\n",
      "Losses {'ner': 1.4994512428421274}\n",
      "Losses {'ner': 0.653493870069203}\n",
      "Losses {'ner': 2.8069721671783543}\n",
      "Losses {'ner': 0.851606589766527}\n",
      "Losses {'ner': 4.023076735810502}\n",
      "Losses {'ner': 2.6594969682494325}\n",
      "Losses {'ner': 0.10635548404441417}\n",
      "Losses {'ner': 0.18249598539012396}\n",
      "Losses {'ner': 0.001933271060299649}\n",
      "Losses {'ner': 2.281919190791393}\n",
      "Losses {'ner': 0.004949297889905613}\n",
      "Losses {'ner': 1.317144389851055}\n",
      "Losses {'ner': 0.018055087772164656}\n",
      "Losses {'ner': 1.1701408650375076}\n",
      "Losses {'ner': 1.8087501269864619}\n",
      "Losses {'ner': 2.8967468854625635}\n",
      "Losses {'ner': 1.9359953911014973}\n",
      "Losses {'ner': 0.0009114223125317812}\n",
      "Losses {'ner': 1.336571613946686}\n",
      "Losses {'ner': 0.0026808484846254687}\n",
      "Losses {'ner': 0.0002698240984884579}\n",
      "Losses {'ner': 3.454872267587008}\n",
      "Losses {'ner': 3.0723586644352525}\n",
      "Losses {'ner': 0.4549170943485292}\n",
      "Losses {'ner': 2.7278524893550626}\n",
      "Losses {'ner': 0.06137983414878697}\n",
      "Losses {'ner': 0.58662929499184}\n",
      "Losses {'ner': 1.8557663082614908}\n",
      "Losses {'ner': 1.5576113439647068}\n",
      "Losses {'ner': 1.6183277610802482}\n",
      "Losses {'ner': 2.596740490424}\n",
      "Losses {'ner': 0.9122955067550609}\n",
      "Losses {'ner': 1.5662937775397856}\n",
      "Losses {'ner': 1.9329381978433604}\n",
      "Losses {'ner': 3.860464904366367}\n",
      "Losses {'ner': 0.0005586208050819413}\n",
      "Losses {'ner': 2.241091976657385}\n",
      "Losses {'ner': 0.8794003663087373}\n",
      "Losses {'ner': 0.00039077133197862936}\n",
      "Losses {'ner': 0.013720135537230569}\n",
      "Losses {'ner': 0.48900721497472915}\n",
      "Losses {'ner': 1.1276349765385807}\n",
      "Losses {'ner': 0.00013804100932435307}\n",
      "Losses {'ner': 3.8268514325043896}\n",
      "Losses {'ner': 3.124469744395345}\n",
      "Losses {'ner': 0.060452151757519924}\n",
      "Losses {'ner': 1.8099576599600056}\n",
      "Losses {'ner': 0.0005519714455454833}\n",
      "Losses {'ner': 0.05769950843781317}\n",
      "Losses {'ner': 0.7608461057981818}\n",
      "Losses {'ner': 3.195063590113079}\n",
      "Losses {'ner': 0.3767307949014594}\n",
      "Losses {'ner': 4.1985998218675835e-05}\n",
      "Losses {'ner': 2.3729935950168684}\n",
      "Losses {'ner': 0.7223407375285184}\n",
      "Losses {'ner': 3.486308924685718}\n",
      "Losses {'ner': 0.0877819075395319}\n",
      "Losses {'ner': 0.017982443144533827}\n",
      "Losses {'ner': 0.002706901020413312}\n",
      "Losses {'ner': 0.5575127067969176}\n",
      "Losses {'ner': 1.8667939794067079}\n",
      "Losses {'ner': 0.9701800549548627}\n",
      "Losses {'ner': 0.012899493001312367}\n",
      "Losses {'ner': 0.00018748547977803185}\n",
      "Losses {'ner': 0.013944389677582306}\n",
      "Losses {'ner': 0.00011900333568036283}\n",
      "Losses {'ner': 0.455386432627849}\n",
      "Losses {'ner': 2.7378395427279414}\n",
      "Losses {'ner': 0.07657251118625796}\n",
      "Losses {'ner': 1.1346423979708196}\n",
      "Losses {'ner': 0.0012668323671137245}\n",
      "Losses {'ner': 0.032446264675660225}\n",
      "Losses {'ner': 0.0010689148135816246}\n",
      "Losses {'ner': 0.09861451448731731}\n",
      "Losses {'ner': 0.0010492156238862322}\n",
      "Losses {'ner': 1.9313668411864684}\n",
      "Losses {'ner': 0.0008087267520805639}\n",
      "Losses {'ner': 0.08477973900555258}\n"
     ]
    }
   ],
   "source": [
    "with nlp.select_pipes(enable=[\"ner\"]):\n",
    "    optimizer = nlp.begin_training()\n",
    "    for iteration in range(200):\n",
    "        random.shuffle(TRAIN_DATA)\n",
    "        losses = {}\n",
    "        for text, annotations in TRAIN_DATA:\n",
    "            example = Example.from_dict(nlp.make_doc(text), annotations)\n",
    "            nlp.update([example], drop=0.5, losses=losses)\n",
    "        print(\"Losses\", losses)"
   ]
  },
  {
   "cell_type": "code",
   "execution_count": 38,
   "id": "57d7dc60",
   "metadata": {},
   "outputs": [
    {
     "name": "stdout",
     "output_type": "stream",
     "text": [
      "Entity: sara, Label: patient name\n",
      "Entity: 18, Label: age\n",
      "Entity: skin problem, Label: Dermatologist\n",
      "Entity: sushma, Label: Neurologist\n",
      "Entity: venusday, Label: Day\n"
     ]
    }
   ],
   "source": [
    "nlp.to_disk(\"custom_ner_model\")\n",
    "nlp = spacy.load(\"custom_ner_model\")\n",
    "text= final_output\n",
    "doc = nlp(text)\n",
    "for ent in doc.ents:\n",
    "    print(f\"Entity: {ent.text}, Label: {ent.label_}\")"
   ]
  },
  {
   "cell_type": "code",
   "execution_count": null,
   "id": "2faeed5f",
   "metadata": {},
   "outputs": [],
   "source": [
    "(\"pinky, aged 52, is looking to book an appointment with Dr. Mohana on Monday to discuss her stress. You can contact her at 7894562135\",\n",
    "    {\n",
    "        \"entities\": [\n",
    "            (0, 5, \"patient name\"),\n",
    "            (12, 14, \"age\"),\n",
    "            (59, 65, \"DoctorName\"),\n",
    "            (69, 75, \"Day\"),\n",
    "            (122, 132, \"phone\"),\n",
    "            (79, 97, \"Psychiatrist\")\n",
    "        ]\n",
    "    }),"
   ]
  },
  {
   "cell_type": "code",
   "execution_count": null,
   "id": "498f4a69",
   "metadata": {},
   "outputs": [],
   "source": [
    "\"\"\"\"(\"I am Sowmya, 32 years old, and I Need an appointment with Doctor Mohana on Tuesday to address my stress. You can reach me at 8975654126\",\n",
    "    {\n",
    "        \"entities\": [\n",
    "            (5, 11, \"patient name\"),\n",
    "            (13, 15, \"age\"),\n",
    "            (65, 71, \"DoctorName\"),\n",
    "            (75, 82, \"Day\"),\n",
    "            (125, 135, \"phone\"),\n",
    "            (86, 103, \"Psychiatrist\")\n",
    "        ]\n",
    "    }),\n",
    "    (\"pinky, aged 52, is looking to book an appointment with Dr. Mohana on Monday to discuss her stress. You can contact her at 7894562135\",\n",
    "    {\n",
    "        \"entities\": [\n",
    "            (0, 5, \"patient name\"),\n",
    "            (12, 14, \"age\"),\n",
    "            (59, 65, \"DoctorName\"),\n",
    "            (69, 75, \"Day\"),\n",
    "            (122, 132, \"phone\"),\n",
    "            (79, 97, \"Psychiatrist\")\n",
    "        ]\n",
    "    }),\n",
    "    \"\"\"\n",
    "\n",
    " {\n",
    "        \"entities\": [\n",
    "            (5, 11, \"patient name\"),\n",
    "            (13, 15, \"age\"),\n",
    "            (65, 71, \"DoctorName\"),\n",
    "            (75, 82, \"Day\"),\n",
    "            (125, 135, \"phone\"),\n",
    "            (86, 103, \"Psychiatrist\")\n",
    "        ]\n",
    "    }),\n",
    "    (\"pinky, aged 52, is looking to book an appointment with Dr. Mohana on Monday to discuss her stress. You can contact her at 7894562135\",\n",
    "    {\n",
    "        \"entities\": [\n",
    "            (0, 5, \"patient name\"),\n",
    "            (12, 14, \"age\"),\n",
    "            (59, 65, \"DoctorName\"),\n",
    "            (69, 75, \"Day\"),\n",
    "            (122, 132, \"phone\"),\n",
    "            (79, 97, \"Psychiatrist\")\n",
    "        ]\n",
    "    }),\n",
    "    "
   ]
  }
 ],
 "metadata": {
  "kernelspec": {
   "display_name": "Python 3 (ipykernel)",
   "language": "python",
   "name": "python3"
  },
  "language_info": {
   "codemirror_mode": {
    "name": "ipython",
    "version": 3
   },
   "file_extension": ".py",
   "mimetype": "text/x-python",
   "name": "python",
   "nbconvert_exporter": "python",
   "pygments_lexer": "ipython3",
   "version": "3.10.2"
  }
 },
 "nbformat": 4,
 "nbformat_minor": 5
}
